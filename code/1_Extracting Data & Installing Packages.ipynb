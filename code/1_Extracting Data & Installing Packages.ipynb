{
 "cells": [
  {
   "cell_type": "markdown",
   "id": "6d1843e2",
   "metadata": {},
   "source": [
    "# Downloading Data"
   ]
  },
  {
   "cell_type": "code",
   "execution_count": 1,
   "id": "5f7052b8",
   "metadata": {},
   "outputs": [],
   "source": [
    "from os.path import getsize\n",
    "from urllib.request import urlretrieve"
   ]
  },
  {
   "cell_type": "markdown",
   "id": "2138d715",
   "metadata": {},
   "source": [
    "Download Data of High Volume For Hire Vehicles from 09/2020 to 12/2020 "
   ]
  },
  {
   "cell_type": "code",
   "execution_count": 2,
   "id": "6f9bf93e",
   "metadata": {},
   "outputs": [
    {
     "name": "stdout",
     "output_type": "stream",
     "text": [
      "Done downloading fhvhv_tripdata_2020-09.csv to /Volumes/E with size 0.71GB\n",
      "Done downloading fhvhv_tripdata_2020-10.csv to /Volumes/E with size 0.78GB\n",
      "Done downloading fhvhv_tripdata_2020-11.csv to /Volumes/E with size 0.68GB\n",
      "Done downloading fhvhv_tripdata_2020-12.csv to /Volumes/E with size 0.68GB\n"
     ]
    }
   ],
   "source": [
    "# Codes are based on tutorial materials\n",
    "\n",
    "output_dir = \"/Volumes/E/data\"\n",
    "fname_template = \"fhvhv_tripdata_2020\"\n",
    "\n",
    "for m in range(9,13):\n",
    "    month = str(m).zfill(2)\n",
    "    out = f'{fname_template}-{month}.csv'\n",
    "    url = f\"https://nyc-tlc.s3.amazonaws.com/trip+data/{out}\"\n",
    "    urlretrieve(url, f\"{output_dir}/{out}\")\n",
    "\n",
    "    print(f\"Done downloading {out} to {output_dir} with size {getsize(f'{output_dir}/{out}') / 1073741824:.2f}GB\")\n",
    "   "
   ]
  },
  {
   "cell_type": "markdown",
   "id": "94623061",
   "metadata": {},
   "source": [
    "Download COVID-19 data"
   ]
  },
  {
   "cell_type": "code",
   "execution_count": 5,
   "id": "c3bdf3af",
   "metadata": {},
   "outputs": [
    {
     "name": "stdout",
     "output_type": "stream",
     "text": [
      "Done downloading cases-by-day.csv to /Volumes/E with size 52.33KB\n"
     ]
    }
   ],
   "source": [
    "# Data recording number of cases by day since the outbreak of covid-19\n",
    "\n",
    "output_dir = \"/Volumes/E/data\"\n",
    "fname = \"cases-by-day.csv\"\n",
    "\n",
    "url = f\"https://raw.githubusercontent.com/nychealth/coronavirus-data/master/trends/{fname}\"\n",
    "urlretrieve(url, f\"{output_dir}/{fname}\")\n",
    "\n",
    "print(f\"Done downloading {fname} to {output_dir} with size {getsize(f'{output_dir}/{fname}') / 1024:.2f}KB\")\n"
   ]
  },
  {
   "cell_type": "markdown",
   "id": "f91b8c76",
   "metadata": {},
   "source": [
    "# Data serialisation"
   ]
  },
  {
   "cell_type": "code",
   "execution_count": 7,
   "id": "976cce60",
   "metadata": {},
   "outputs": [],
   "source": [
    "import pandas as pd\n",
    "import warnings\n",
    "warnings.filterwarnings(\"ignore\")\n",
    "\n",
    "\n",
    "fhvhv_0920 = pd.read_csv('/Volumes/E/data/fhvhv_tripdata_2020-09.csv')\n",
    "fhvhv_0920.to_feather('/Volumes/E/data/feather/fhvhv_tripdata_2020-09.feather')\n",
    "\n",
    "fhvhv_1020 = pd.read_csv('/Volumes/E/data/fhvhv_tripdata_2020-10.csv')\n",
    "fhvhv_1020.to_feather('/Volumes/E/data/feather/fhvhv_tripdata_2020-10.feather')\n",
    "\n",
    "fhvhv_1120 = pd.read_csv('/Volumes/E/data/fhvhv_tripdata_2020-11.csv')\n",
    "fhvhv_1120.to_feather('/Volumes/E/data/feather/fhvhv_tripdata_2020-11.feather')\n",
    "\n",
    "fhvhv_1220 = pd.read_csv('/Volumes/E/data/fhvhv_tripdata_2020-12.csv')\n",
    "fhvhv_1220.to_feather('/Volumes/E/data/feather/fhvhv_tripdata_2020-12.feather')"
   ]
  },
  {
   "cell_type": "markdown",
   "id": "b493d870",
   "metadata": {},
   "source": [
    "# Installing Packages"
   ]
  },
  {
   "cell_type": "code",
   "execution_count": null,
   "id": "3692805f",
   "metadata": {},
   "outputs": [],
   "source": [
    "!pip install numpy"
   ]
  },
  {
   "cell_type": "code",
   "execution_count": null,
   "id": "1c7dee78",
   "metadata": {},
   "outputs": [],
   "source": [
    "!pip install folium"
   ]
  },
  {
   "cell_type": "code",
   "execution_count": null,
   "id": "d596c491",
   "metadata": {},
   "outputs": [],
   "source": [
    "!pip install seaborn"
   ]
  },
  {
   "cell_type": "code",
   "execution_count": null,
   "id": "e7b21814",
   "metadata": {},
   "outputs": [],
   "source": [
    "!pip install geopandas"
   ]
  },
  {
   "cell_type": "code",
   "execution_count": null,
   "id": "da912b75",
   "metadata": {},
   "outputs": [],
   "source": [
    "!pip install statsmodels"
   ]
  }
 ],
 "metadata": {
  "kernelspec": {
   "display_name": "Python 3 (ipykernel)",
   "language": "python",
   "name": "python3"
  },
  "language_info": {
   "codemirror_mode": {
    "name": "ipython",
    "version": 3
   },
   "file_extension": ".py",
   "mimetype": "text/x-python",
   "name": "python",
   "nbconvert_exporter": "python",
   "pygments_lexer": "ipython3",
   "version": "3.8.0b4"
  }
 },
 "nbformat": 4,
 "nbformat_minor": 5
}
